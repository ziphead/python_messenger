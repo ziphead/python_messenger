{
 "cells": [
  {
   "cell_type": "code",
   "execution_count": 55,
   "metadata": {},
   "outputs": [],
   "source": [
    "ENCODING_NAME = 'utf-8'\n",
    "\n",
    "def Print_data(data):\n",
    "    print(data, type(data), 'length', len(data))\n",
    "\n",
    "def Data_type(data):    \n",
    "    if isinstance(data, bytes):\n",
    "        return True\n",
    "    else :\n",
    "        return False\n",
    "\n",
    "def Data_stringificator(data):\n",
    "    if Data_type(data) == False:\n",
    "        data = str(data)\n",
    "        return data    \n",
    "    else:\n",
    "        return data.decode(ENCODING_NAME)\n",
    "        \n",
    "    \n",
    "def Byte_converter(data):    \n",
    "    data = Data_stringificator(data)\n",
    "    return data.encode(ENCODING_NAME)        \n",
    "\n",
    "         \n",
    "\n",
    "         \n",
    "word_1 = 'разработка'\n",
    "word_2 = 'сокет'\n",
    "word_3 = 'декоратор'"
   ]
  },
  {
   "cell_type": "code",
   "execution_count": 56,
   "metadata": {},
   "outputs": [
    {
     "name": "stdout",
     "output_type": "stream",
     "text": [
      "разработка <class 'str'> length 10\n",
      "b'\\xd1\\x80\\xd0\\xb0\\xd0\\xb7\\xd1\\x80\\xd0\\xb0\\xd0\\xb1\\xd0\\xbe\\xd1\\x82\\xd0\\xba\\xd0\\xb0' <class 'bytes'> length 20\n",
      "разработка <class 'str'> length 10\n",
      "сокет <class 'str'> length 5\n",
      "b'\\xd1\\x81\\xd0\\xbe\\xd0\\xba\\xd0\\xb5\\xd1\\x82' <class 'bytes'> length 10\n",
      "сокет <class 'str'> length 5\n",
      "декоратор <class 'str'> length 9\n",
      "b'\\xd0\\xb4\\xd0\\xb5\\xd0\\xba\\xd0\\xbe\\xd1\\x80\\xd0\\xb0\\xd1\\x82\\xd0\\xbe\\xd1\\x80' <class 'bytes'> length 18\n",
      "декоратор <class 'str'> length 9\n"
     ]
    }
   ],
   "source": [
    "\"\"\" 1. Каждое из слов «разработка», «сокет», «декоратор» представить в строковом формате \n",
    "и проверить тип и содержание соответствующих переменных. Затем с помощью онлайн-конвертера\n",
    "преобразовать строковые представление \n",
    "в формат Unicode и также проверить тип и содержимое переменных.\"\"\"\n",
    "\n",
    "test_line = (word_1,word_2,word_3)\n",
    "for each in test_line:\n",
    "    test = each\n",
    "    Print_data(test)\n",
    "    test = Byte_converter(test)\n",
    "    Print_data(test)\n",
    "    test = Data_stringificator(test)\n",
    "    Print_data(test)\n",
    "\n"
   ]
  },
  {
   "cell_type": "code",
   "execution_count": 72,
   "metadata": {},
   "outputs": [
    {
     "name": "stdout",
     "output_type": "stream",
     "text": [
      "cp1251\n",
      "b'class' <class 'bytes'> length 5\n",
      "b'function' <class 'bytes'> length 8\n",
      "b'method' <class 'bytes'> length 6\n"
     ]
    }
   ],
   "source": [
    "\n",
    "\n",
    "\"\"\"\n",
    "2. Каждое из слов «class», «function», «method» записать в байтовом типе без преобразования\n",
    "\\в последовательность кодов (не используя методы encode и decode) и определить тип, содержимое\n",
    "и длину соответствующих переменных.\n",
    "\"\"\"\n",
    "\n",
    "word_line = [ b'class', b'function', b'method' ]\n",
    "for each in word_line:\n",
    "    Print_data(each)"
   ]
  },
  {
   "cell_type": "code",
   "execution_count": 76,
   "metadata": {},
   "outputs": [
    {
     "ename": "SyntaxError",
     "evalue": "bytes can only contain ASCII literal characters. (<ipython-input-76-849f8b3a5a85>, line 4)",
     "output_type": "error",
     "traceback": [
      "\u001b[1;36m  File \u001b[1;32m\"<ipython-input-76-849f8b3a5a85>\"\u001b[1;36m, line \u001b[1;32m4\u001b[0m\n\u001b[1;33m    word_line2 = [b\"attribute\", b\"класс\", b\"функция\", b\"type\"]\u001b[0m\n\u001b[1;37m                               ^\u001b[0m\n\u001b[1;31mSyntaxError\u001b[0m\u001b[1;31m:\u001b[0m bytes can only contain ASCII literal characters.\n"
     ]
    }
   ],
   "source": [
    "\"\"\"\n",
    "3. Определить, какие из слов «attribute», «класс», «функция», «type» невозможно записать в байтовом типе.\n",
    "\"\"\"\n",
    "word_line2 = [b\"attribute\", b\"класс\", b\"функция\", b\"type\"]\n",
    "\"\"\"\n",
    "b - преобразует строку в байтовый вид в кодировке ascii , которая\n",
    "не поддерживает кирилицу . Соответственно слова “класс\" и \"функция\" вывозут ошибку\n",
    "bytes can only contain ASCII literal characters.\n",
    "\"\"\"\n"
   ]
  },
  {
   "cell_type": "code",
   "execution_count": 77,
   "metadata": {},
   "outputs": [
    {
     "name": "stdout",
     "output_type": "stream",
     "text": [
      "разработка <class 'str'> length 10\n",
      "b'\\xd1\\x80\\xd0\\xb0\\xd0\\xb7\\xd1\\x80\\xd0\\xb0\\xd0\\xb1\\xd0\\xbe\\xd1\\x82\\xd0\\xba\\xd0\\xb0' <class 'bytes'> length 20\n",
      "разработка <class 'str'> length 10\n",
      "администрирование <class 'str'> length 17\n",
      "b'\\xd0\\xb0\\xd0\\xb4\\xd0\\xbc\\xd0\\xb8\\xd0\\xbd\\xd0\\xb8\\xd1\\x81\\xd1\\x82\\xd1\\x80\\xd0\\xb8\\xd1\\x80\\xd0\\xbe\\xd0\\xb2\\xd0\\xb0\\xd0\\xbd\\xd0\\xb8\\xd0\\xb5' <class 'bytes'> length 34\n",
      "администрирование <class 'str'> length 17\n",
      "protocol <class 'str'> length 8\n",
      "b'protocol' <class 'bytes'> length 8\n",
      "protocol <class 'str'> length 8\n",
      "standard <class 'str'> length 8\n",
      "b'standard' <class 'bytes'> length 8\n",
      "standard <class 'str'> length 8\n"
     ]
    }
   ],
   "source": [
    "\"\"\"\n",
    "4. Преобразовать слова «разработка», «администрирование», «protocol», «standard»\n",
    "из строкового представления в байтовое и выполнить обратное преобразование (используя методы encode и decode).\n",
    "\n",
    "\"\"\"\n",
    "word_1 = 'разработка'\n",
    "word_2 = 'администрирование'\n",
    "word_3 = 'protocol'\n",
    "word_4 = 'standard'\n",
    "test_line = (word_1,word_2,word_3, word_4)\n",
    "\n",
    "for each in test_line:\n",
    "    test = each\n",
    "    Print_data(test)\n",
    "    test = Byte_converter(test)\n",
    "    Print_data(test)\n",
    "    test = Data_stringificator(test)\n",
    "    Print_data(test)\n"
   ]
  },
  {
   "cell_type": "code",
   "execution_count": 80,
   "metadata": {},
   "outputs": [
    {
     "name": "stdout",
     "output_type": "stream",
     "text": [
      "\n",
      "\n",
      "Обмен пакетами с yandex.ru [5.255.255.77] с 32 байтами данных:\n",
      "\n",
      "Ответ от 5.255.255.77: число байт=32 время=5мс TTL=55\n",
      "\n",
      "Ответ от 5.255.255.77: число байт=32 время=5мс TTL=55\n",
      "\n",
      "Ответ от 5.255.255.77: число байт=32 время=5мс TTL=55\n",
      "\n",
      "Ответ от 5.255.255.77: число байт=32 время=5мс TTL=55\n",
      "\n",
      "\n",
      "\n",
      "Статистика Ping для 5.255.255.77:\n",
      "\n",
      "    Пакетов: отправлено = 4, получено = 4, потеряно = 0\n",
      "\n",
      "    (0% потерь)\n",
      "\n",
      "Приблизительное время приема-передачи в мс:\n",
      "\n",
      "    Минимальное = 5мсек, Максимальное = 5 мсек, Среднее = 5 мсек\n",
      "\n"
     ]
    }
   ],
   "source": [
    "import subprocess\n",
    "\n",
    "\"\"\"\n",
    "5. Выполнить пинг веб-ресурсов yandex.ru, youtube.com и преобразовать результаты\n",
    "из байтовового в строковый тип на кириллице.\n",
    "\"\"\"\n",
    "\n",
    "args = ['ping', 'yandex.ru']\n",
    "\n",
    "subproc_ping = subprocess.Popen(args, stdout=subprocess.PIPE)\n",
    "\n",
    "for line in subproc_ping.stdout:\n",
    "    line = line.decode('cp866').encode('utf-8')\n",
    "    print(line.decode('utf-8'))"
   ]
  },
  {
   "cell_type": "code",
   "execution_count": 84,
   "metadata": {},
   "outputs": [
    {
     "name": "stdout",
     "output_type": "stream",
     "text": [
      "cp1251\n",
      "<_io.TextIOWrapper name='test.txt' mode='w' encoding='cp1251'>\n"
     ]
    },
    {
     "ename": "UnicodeDecodeError",
     "evalue": "'utf-8' codec can't decode byte 0xf1 in position 0: invalid continuation byte",
     "output_type": "error",
     "traceback": [
      "\u001b[1;31m---------------------------------------------------------------------------\u001b[0m",
      "\u001b[1;31mUnicodeDecodeError\u001b[0m                        Traceback (most recent call last)",
      "\u001b[1;32m<ipython-input-84-0d54538dc110>\u001b[0m in \u001b[0;36m<module>\u001b[1;34m()\u001b[0m\n\u001b[0;32m     17\u001b[0m \u001b[1;32mwith\u001b[0m \u001b[0mopen\u001b[0m\u001b[1;33m(\u001b[0m\u001b[1;34m'test.txt'\u001b[0m\u001b[1;33m,\u001b[0m \u001b[0mencoding\u001b[0m\u001b[1;33m=\u001b[0m\u001b[1;34m'utf-8'\u001b[0m\u001b[1;33m)\u001b[0m \u001b[1;32mas\u001b[0m \u001b[0mf_n\u001b[0m\u001b[1;33m:\u001b[0m\u001b[1;33m\u001b[0m\u001b[0m\n\u001b[0;32m     18\u001b[0m \u001b[1;33m\u001b[0m\u001b[0m\n\u001b[1;32m---> 19\u001b[1;33m     \u001b[1;32mfor\u001b[0m \u001b[0mel_str\u001b[0m \u001b[1;32min\u001b[0m \u001b[0mf_n\u001b[0m\u001b[1;33m:\u001b[0m\u001b[1;33m\u001b[0m\u001b[0m\n\u001b[0m\u001b[0;32m     20\u001b[0m         \u001b[0mprint\u001b[0m\u001b[1;33m(\u001b[0m\u001b[0mel_str\u001b[0m\u001b[1;33m,\u001b[0m \u001b[0mend\u001b[0m\u001b[1;33m=\u001b[0m\u001b[1;34m''\u001b[0m\u001b[1;33m)\u001b[0m\u001b[1;33m\u001b[0m\u001b[0m\n",
      "\u001b[1;32mc:\\users\\ymilt\\appdata\\local\\programs\\python\\python36-32\\lib\\codecs.py\u001b[0m in \u001b[0;36mdecode\u001b[1;34m(self, input, final)\u001b[0m\n\u001b[0;32m    319\u001b[0m         \u001b[1;31m# decode input (taking the buffer into account)\u001b[0m\u001b[1;33m\u001b[0m\u001b[1;33m\u001b[0m\u001b[0m\n\u001b[0;32m    320\u001b[0m         \u001b[0mdata\u001b[0m \u001b[1;33m=\u001b[0m \u001b[0mself\u001b[0m\u001b[1;33m.\u001b[0m\u001b[0mbuffer\u001b[0m \u001b[1;33m+\u001b[0m \u001b[0minput\u001b[0m\u001b[1;33m\u001b[0m\u001b[0m\n\u001b[1;32m--> 321\u001b[1;33m         \u001b[1;33m(\u001b[0m\u001b[0mresult\u001b[0m\u001b[1;33m,\u001b[0m \u001b[0mconsumed\u001b[0m\u001b[1;33m)\u001b[0m \u001b[1;33m=\u001b[0m \u001b[0mself\u001b[0m\u001b[1;33m.\u001b[0m\u001b[0m_buffer_decode\u001b[0m\u001b[1;33m(\u001b[0m\u001b[0mdata\u001b[0m\u001b[1;33m,\u001b[0m \u001b[0mself\u001b[0m\u001b[1;33m.\u001b[0m\u001b[0merrors\u001b[0m\u001b[1;33m,\u001b[0m \u001b[0mfinal\u001b[0m\u001b[1;33m)\u001b[0m\u001b[1;33m\u001b[0m\u001b[0m\n\u001b[0m\u001b[0;32m    322\u001b[0m         \u001b[1;31m# keep undecoded input until the next call\u001b[0m\u001b[1;33m\u001b[0m\u001b[1;33m\u001b[0m\u001b[0m\n\u001b[0;32m    323\u001b[0m         \u001b[0mself\u001b[0m\u001b[1;33m.\u001b[0m\u001b[0mbuffer\u001b[0m \u001b[1;33m=\u001b[0m \u001b[0mdata\u001b[0m\u001b[1;33m[\u001b[0m\u001b[0mconsumed\u001b[0m\u001b[1;33m:\u001b[0m\u001b[1;33m]\u001b[0m\u001b[1;33m\u001b[0m\u001b[0m\n",
      "\u001b[1;31mUnicodeDecodeError\u001b[0m: 'utf-8' codec can't decode byte 0xf1 in position 0: invalid continuation byte"
     ]
    }
   ],
   "source": [
    "import locale\n",
    "\"\"\"\n",
    "6. Создать текстовый файл test_file.txt, заполнить его тремя строками:\n",
    "«сетевое программирование», «сокет», «декоратор». Проверить кодировку файла по умолчанию.\n",
    "Принудительно открыть файл в формате Unicode и вывести его содержимое.\n",
    "\"\"\"\n",
    "\"Этот код вызовет ошибку UnicodeDecodeError \"\n",
    "def_coding = locale.getpreferredencoding()\n",
    "print(def_coding)\n",
    "test6_line = [\"сетевое программирование\", \"сокет\", \"декоратор\"]\n",
    "f_n = open(\"test.txt\", \"w\")\n",
    "for i in test6_line:\n",
    "    f_n.write(i+'\\n')\n",
    "f_n.close()\n",
    "print(f_n)\n",
    "\n",
    "with open('test.txt', encoding='utf-8') as f_n:\n",
    "    for el_str in f_n:\n",
    "        print(el_str, end='')\n",
    "\n"
   ]
  },
  {
   "cell_type": "code",
   "execution_count": null,
   "metadata": {},
   "outputs": [],
   "source": []
  }
 ],
 "metadata": {
  "kernelspec": {
   "display_name": "Python 3",
   "language": "python",
   "name": "python3"
  },
  "language_info": {
   "codemirror_mode": {
    "name": "ipython",
    "version": 3
   },
   "file_extension": ".py",
   "mimetype": "text/x-python",
   "name": "python",
   "nbconvert_exporter": "python",
   "pygments_lexer": "ipython3",
   "version": "3.6.5"
  }
 },
 "nbformat": 4,
 "nbformat_minor": 2
}
