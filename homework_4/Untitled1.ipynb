{
 "cells": [
  {
   "cell_type": "code",
   "execution_count": 1,
   "metadata": {},
   "outputs": [],
   "source": [
    "from cryptography.fernet import Fernet\n",
    "KEY = 'MkQEA-B0AR2siad-kikI-lK6ruZI7Tp_l0hM4xBq5ME='\n",
    "\n",
    "F_KEY = Fernet(KEY)\n",
    "\n",
    "\n",
    "def encryption(message):\n",
    "    data = message.encode('utf-8')\n",
    "    data = F_KEY.encrypt(data)\n",
    "    return data\n",
    "\n",
    "\n",
    "def decryption(message):\n",
    "    data = F_KEY.decrypt(message)\n",
    "    data = data.decode('utf-8')\n",
    "    return data\n"
   ]
  },
  {
   "cell_type": "code",
   "execution_count": 5,
   "metadata": {},
   "outputs": [
    {
     "name": "stdout",
     "output_type": "stream",
     "text": [
      "b'gAAAAABctaqRmxXXDmxnJKau-QphiMwmzvseYD4OToo0YXausikj336aF1XeX2XdLEwgsqk8dfeyXSoeyGMNxGM4i1_mG7crIQ==' \n",
      " Some data\n"
     ]
    }
   ],
   "source": [
    "DATA = 'Some data'\n",
    "BYTES = b'gAAAAABctZhB2GK93qoQymFSNPqC_c8sSZEDtvvX7hBn3_NLiW7BcO4CT2dfhdhPoZYLb7jODW3FMrKyYaR4oYL-EU8UQqn7tg=='\n",
    "\n",
    "a = encryption(DATA)\n",
    "b = decryption(BYTES)\n",
    "print(a, '\\n', b)"
   ]
  },
  {
   "cell_type": "code",
   "execution_count": null,
   "metadata": {},
   "outputs": [],
   "source": []
  },
  {
   "cell_type": "code",
   "execution_count": null,
   "metadata": {},
   "outputs": [],
   "source": []
  }
 ],
 "metadata": {
  "kernelspec": {
   "display_name": "Python 3",
   "language": "python",
   "name": "python3"
  },
  "language_info": {
   "codemirror_mode": {
    "name": "ipython",
    "version": 3
   },
   "file_extension": ".py",
   "mimetype": "text/x-python",
   "name": "python",
   "nbconvert_exporter": "python",
   "pygments_lexer": "ipython3",
   "version": "3.6.5"
  }
 },
 "nbformat": 4,
 "nbformat_minor": 2
}
