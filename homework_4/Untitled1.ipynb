{
 "cells": [
  {
   "cell_type": "code",
   "execution_count": 59,
   "metadata": {},
   "outputs": [],
   "source": [
    "from cryptography.fernet import Fernet\n",
    "from cryptography.exceptions import InvalidSignature\n",
    "from cryptography.fernet import InvalidToken \n",
    "KEY = 'MkQEA-B0AR2siad-kikI-lK6ruZI7Tp_l0hM4xBq5ME='\n",
    "KEY2 = 'MkQAA-B0AR2siaa-kikI-lK6ruZI7TT_l0hM4xBq5ME='\n",
    "F_KEY = Fernet(KEY)\n",
    "F_KEY2 = Fernet(KEY2)\n",
    "\n",
    "def encryption(message):\n",
    "    try:\n",
    "        data = message.encode('utf-8')\n",
    "        data = F_KEY2.encrypt(data)\n",
    "        return data\n",
    "    except (TypeError, AttributeError):\n",
    "        return False\n",
    "\n",
    "\n",
    "def decryption(message):\n",
    "    try:\n",
    "        data = F_KEY.decrypt(message)\n",
    "        data = data.decode('utf-8')\n",
    "        return data\n",
    "    except (InvalidToken, InvalidSignature, NameError, TypeError) :\n",
    "        return False\n",
    "    \n",
    "    \n"
   ]
  },
  {
   "cell_type": "code",
   "execution_count": 54,
   "metadata": {},
   "outputs": [
    {
     "name": "stdout",
     "output_type": "stream",
     "text": [
      "b'gAAAAABcuY4-oeZ0ZB_DcRrcuUu7W_k9KuEF_C5KgiDezUXT70aGK66_qZzY0evJiOmqmXu73lS-4_MZrU0_rQb2VBovWAZA8A==' \n",
      " False\n"
     ]
    }
   ],
   "source": [
    "DATA = 'Some data'\n",
    "BYTES = b'gAAAAABctZhB2GK93qoQymFSNPqC_c8sSZEDtvvX7hBn3_NLiW7BcO4CT2dfhdhPoZYLb7jODW3FMrKyYaR4oYL-EU8UQqn7tg=='\n",
    "not_encrypted = b'Some data'\n",
    "a = encryption(DATA)\n",
    "b = decryption(DATA )\n",
    "print(a, '\\n', b)"
   ]
  },
  {
   "cell_type": "code",
   "execution_count": 1,
   "metadata": {},
   "outputs": [
    {
     "name": "stdout",
     "output_type": "stream",
     "text": [
      "1\n"
     ]
    }
   ],
   "source": [
    "arse=0\n",
    "while True:\n",
    "    arse+=1\n",
    "    print(arse)\n",
    "    break"
   ]
  },
  {
   "cell_type": "code",
   "execution_count": 62,
   "metadata": {},
   "outputs": [
    {
     "name": "stdout",
     "output_type": "stream",
     "text": [
      "False\n"
     ]
    }
   ],
   "source": [
    "DATA2 = b'Some data'\n",
    "DATA2 = encryption(DATA2)\n",
    "b2 = decryption(True)\n",
    "print(b2)"
   ]
  },
  {
   "cell_type": "code",
   "execution_count": null,
   "metadata": {},
   "outputs": [],
   "source": []
  }
 ],
 "metadata": {
  "kernelspec": {
   "display_name": "Python 3",
   "language": "python",
   "name": "python3"
  },
  "language_info": {
   "codemirror_mode": {
    "name": "ipython",
    "version": 3
   },
   "file_extension": ".py",
   "mimetype": "text/x-python",
   "name": "python",
   "nbconvert_exporter": "python",
   "pygments_lexer": "ipython3",
   "version": "3.6.5"
  }
 },
 "nbformat": 4,
 "nbformat_minor": 2
}
