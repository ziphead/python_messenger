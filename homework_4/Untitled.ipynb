{
 "cells": [
  {
   "cell_type": "code",
   "execution_count": 6,
   "metadata": {},
   "outputs": [
    {
     "name": "stderr",
     "output_type": "stream",
     "text": [
      "E"
     ]
    },
    {
     "name": "stdout",
     "output_type": "stream",
     "text": [
      "sal= <class '__main__.Salary'>\n"
     ]
    },
    {
     "name": "stderr",
     "output_type": "stream",
     "text": [
      "\n",
      "======================================================================\n",
      "ERROR: C:\\Users\\ymilt\\AppData\\Roaming\\jupyter\\runtime\\kernel-50dd6212-ff76-4f46-b99a-72972728ce7f (unittest.loader._FailedTest)\n",
      "----------------------------------------------------------------------\n",
      "AttributeError: module '__main__' has no attribute 'C:\\Users\\ymilt\\AppData\\Roaming\\jupyter\\runtime\\kernel-50dd6212-ff76-4f46-b99a-72972728ce7f'\n",
      "\n",
      "----------------------------------------------------------------------\n",
      "Ran 1 test in 0.004s\n",
      "\n",
      "FAILED (errors=1)\n"
     ]
    },
    {
     "ename": "SystemExit",
     "evalue": "True",
     "output_type": "error",
     "traceback": [
      "An exception has occurred, use %tb to see the full traceback.\n",
      "\u001b[1;31mSystemExit\u001b[0m\u001b[1;31m:\u001b[0m True\n"
     ]
    },
    {
     "name": "stderr",
     "output_type": "stream",
     "text": [
      "c:\\users\\ymilt\\appdata\\local\\programs\\python\\python36-32\\lib\\site-packages\\IPython\\core\\interactiveshell.py:2971: UserWarning: To exit: use 'exit', 'quit', or Ctrl-D.\n",
      "  warn(\"To exit: use 'exit', 'quit', or Ctrl-D.\", stacklevel=1)\n"
     ]
    }
   ],
   "source": [
    "\"\"\"\n",
    "Фамилия     Имя         Часов   Ставка\n",
    "Иванов      Иван        45      400\n",
    "Докукин     Филимон     20      1000\n",
    "Ромашкин    Сидор       45      500\n",
    "\"\"\"\n",
    "\n",
    "import datetime\n",
    "from collections import namedtuple\n",
    "\n",
    "import unittest\n",
    "\n",
    "Salary = namedtuple('Salary', ('surname', 'name', 'worked', 'rate'))\n",
    "print('sal=',Salary)\n",
    "def get_salary(line):\n",
    "    ''' Вычисление зарплаты работника\n",
    "    '''\n",
    "    line = line.split()\n",
    "    if line:\n",
    "        data = Salary(*line)\n",
    "#         print('d=',data)\n",
    "        fio = ' '.join((data.surname, data.name))\n",
    "        salary = int(data.worked) * int(data.rate)\n",
    "        res = (fio, salary)\n",
    "    else:\n",
    "        res = ()\n",
    "    return res\n",
    "\n",
    "\n",
    "class TestSalary(unittest.TestCase):\n",
    "\n",
    "    def test_get_salary_summ(self):\n",
    "        self.assertEqual(get_salary('Лютиков   Руслан     60    1000'),\n",
    "                         ('Лютиков Руслан', 60000))\n",
    "\n",
    "    def test_get_salary_fio(self):\n",
    "        self.assertEqual(get_salary('Лютиков   Руслан     60    1000')[0],\n",
    "                         'Лютиков Руслан')\n",
    "\n",
    "    def test_get_salary_empty(self):\n",
    "        self.assertEqual(get_salary(''), ('1', '2'))\n",
    "\n",
    "\n",
    "if __name__ == \"__main__\":\n",
    "    unittest.main()"
   ]
  },
  {
   "cell_type": "code",
   "execution_count": 1,
   "metadata": {},
   "outputs": [
    {
     "name": "stdout",
     "output_type": "stream",
     "text": [
      "\n",
      "The following command must be run outside of the IPython shell:\n",
      "\n",
      "    $ pip install cryptography\n",
      "\n",
      "The Python package manager (pip) can only be used from outside of IPython.\n",
      "Please reissue the `pip` command in a separate terminal or command prompt.\n",
      "\n",
      "See the Python documentation for more information on how to install packages:\n",
      "\n",
      "    https://docs.python.org/3/installing/\n"
     ]
    }
   ],
   "source": [
    "pip install cryptography\n"
   ]
  },
  {
   "cell_type": "code",
   "execution_count": null,
   "metadata": {},
   "outputs": [],
   "source": []
  }
 ],
 "metadata": {
  "kernelspec": {
   "display_name": "Python 3",
   "language": "python",
   "name": "python3"
  },
  "language_info": {
   "codemirror_mode": {
    "name": "ipython",
    "version": 3
   },
   "file_extension": ".py",
   "mimetype": "text/x-python",
   "name": "python",
   "nbconvert_exporter": "python",
   "pygments_lexer": "ipython3",
   "version": "3.6.5"
  }
 },
 "nbformat": 4,
 "nbformat_minor": 2
}
