{
 "cells": [
  {
   "cell_type": "code",
   "execution_count": 32,
   "metadata": {},
   "outputs": [
    {
     "name": "stdout",
     "output_type": "stream",
     "text": [
      "Название ОС Microsoft Windows 7 Профессиональная \n",
      "Код продукта 00971-OEM-1982661-00231\n",
      "Изготовитель системы LENOVO\n",
      "Тип системы x64-based PC\n",
      "Название ОС Microsoft Windows 10 Professional\n",
      "Код продукта 00971-OEM-1982661-00231\n",
      "Изготовитель системы ACER\n",
      "Тип системы x64-based PC\n",
      "Название ОС Microsoft Windows 8.1 Professional\n",
      "Код продукта 00971-OEM-1982661-00231\n",
      "Изготовитель системы DELL\n",
      "Тип системы x86-based PC\n"
     ]
    }
   ],
   "source": [
    "# python >= 3.6 os Windows\n",
    "import os, re, csv, json, yaml\n",
    "\n",
    "PATTERNS = ['Изготовитель системы', 'Название ОС', 'Код продукта', 'Тип системы']\n",
    "ENCODING_NAME = 'utf-8'\n",
    "DATA_DICTS = []\n",
    "\n",
    "# Check if a file has the given extension\n",
    "def Extension_check(a_path, an_ext):\n",
    "    if a_path.split('.')[1] == an_ext:\n",
    "        return True\n",
    "    else:\n",
    "        return False\n",
    "    \n",
    "# looking for the matches in the file and creating a list of dictionaries (pattern:data)\n",
    "def File_prossesing(file):\n",
    "    the_dict = {}\n",
    "    for el_str in file:\n",
    "        el_str = el_str.encode(ENCODING_NAME) \n",
    "        el_str = el_str.decode()\n",
    "        for pattern in PATTERNS:\n",
    "            reg_pattern = f'(?<={pattern}.)\\s+(.*)'\n",
    "            bang = re.search(reg_pattern, el_str)\n",
    "            if bang != None:\n",
    "                print(pattern, bang.group(1))\n",
    "                the_dict[pattern] = bang.group(1)\n",
    "    DATA_DICTS.append(the_dict)\n",
    "        \n",
    "                \n",
    "# iterating over files in the current directory and processing them    \n",
    "with os.scandir('.') as it:\n",
    "    for entry in it:\n",
    "        if not entry.name.startswith('.') and entry.is_file():\n",
    "            if Extension_check(entry.name, 'txt'):\n",
    "                with open(entry.name, encoding='cp1251') as file:\n",
    "                    File_prossesing(file)\n",
    "\n",
    "\n",
    "\n",
    "\n",
    "# creating csv data\n",
    "\n",
    "with open('hw2.csv', 'w', newline='') as csvfile:\n",
    "    writer = csv.DictWriter(csvfile, fieldnames=PATTERNS)\n",
    "    writer.writeheader()\n",
    "    for row in DATA_DICTS:\n",
    "         writer.writerow(row)\n",
    "\n",
    "                    \n"
   ]
  },
  {
   "cell_type": "code",
   "execution_count": 31,
   "metadata": {},
   "outputs": [],
   "source": [
    "#  csv --> json\n",
    "\n",
    "csv_dicts = []\n",
    "if Extension_check('hw2.csv', 'csv'):\n",
    "    with open('hw2.csv', 'r', newline='') as csvfile:\n",
    "        reader = csv.DictReader(csvfile)\n",
    "        for a in reader:\n",
    "            csv_dicts.append(a)\n",
    "with open('hw2.json', 'w', encoding=ENCODING_NAME) as f_n:\n",
    "           json.dump(csv_dicts, f_n, sort_keys=True, ensure_ascii=False, indent=4)\n",
    "        "
   ]
  },
  {
   "cell_type": "code",
   "execution_count": 37,
   "metadata": {},
   "outputs": [
    {
     "name": "stdout",
     "output_type": "stream",
     "text": [
      "[OrderedDict([('Изготовитель системы', 'LENOVO'), ('Название ОС', 'Microsoft Windows 7 Профессиональная '), ('Код продукта', '00971-OEM-1982661-00231'), ('Тип системы', 'x64-based PC')]), OrderedDict([('Изготовитель системы', 'ACER'), ('Название ОС', 'Microsoft Windows 10 Professional'), ('Код продукта', '00971-OEM-1982661-00231'), ('Тип системы', 'x64-based PC')]), OrderedDict([('Изготовитель системы', 'DELL'), ('Название ОС', 'Microsoft Windows 8.1 Professional'), ('Код продукта', '00971-OEM-1982661-00231'), ('Тип системы', 'x86-based PC')])]\n"
     ]
    }
   ],
   "source": [
    "# csv --> yaml\n",
    "print(csv_dicts)\n",
    "with open('hw.yaml', 'w', encoding=ENCODING_NAME) as f_n:\n",
    "    yaml.dump(csv_dicts , f_n, sort_keys=True)"
   ]
  },
  {
   "cell_type": "code",
   "execution_count": null,
   "metadata": {},
   "outputs": [],
   "source": []
  }
 ],
 "metadata": {
  "kernelspec": {
   "display_name": "Python 3",
   "language": "python",
   "name": "python3"
  },
  "language_info": {
   "codemirror_mode": {
    "name": "ipython",
    "version": 3
   },
   "file_extension": ".py",
   "mimetype": "text/x-python",
   "name": "python",
   "nbconvert_exporter": "python",
   "pygments_lexer": "ipython3",
   "version": "3.6.5"
  }
 },
 "nbformat": 4,
 "nbformat_minor": 2
}
